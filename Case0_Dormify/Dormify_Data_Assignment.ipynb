{
 "cells": [
  {
   "cell_type": "code",
   "execution_count": null,
   "metadata": {},
   "outputs": [],
   "source": [
    "import pandas as pd\n",
    "df1=pd.read_excel('F:\\Andy_Chen_Data_assignment.xlsx',sheet_name='items_sold')\n",
    "df2=pd.read_excel('F:\\Andy_Chen_Data_assignment.xlsx',sheet_name='ids_orders')\n",
    "df3=pd.read_excel('F:\\Andy_Chen_Data_assignment.xlsx',sheet_name='sku_subcategory')\n",
    "df4=pd.merge(df2,df1,on='orderName',how='right')\n",
    "df=pd.merge(df3,df4,on='sku',how='right')\n",
    "df.head()"
   ]
  },
  {
   "cell_type": "code",
   "execution_count": null,
   "metadata": {},
   "outputs": [],
   "source": [
    "dfa=df.groupby(['customer_id'])['order_created_at'].min()"
   ]
  },
  {
   "cell_type": "code",
   "execution_count": null,
   "metadata": {},
   "outputs": [],
   "source": []
  }
 ],
 "metadata": {
  "kernelspec": {
   "display_name": "Python 3",
   "language": "python",
   "name": "python3"
  },
  "language_info": {
   "codemirror_mode": {
    "name": "ipython",
    "version": 3
   },
   "file_extension": ".py",
   "mimetype": "text/x-python",
   "name": "python",
   "nbconvert_exporter": "python",
   "pygments_lexer": "ipython3",
   "version": "3.7.1"
  }
 },
 "nbformat": 4,
 "nbformat_minor": 2
}
