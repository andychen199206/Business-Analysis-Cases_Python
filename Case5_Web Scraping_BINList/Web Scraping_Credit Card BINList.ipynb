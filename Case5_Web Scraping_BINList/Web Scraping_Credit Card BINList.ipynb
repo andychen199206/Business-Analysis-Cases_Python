{
 "cells": [
  {
   "cell_type": "code",
   "execution_count": 48,
   "metadata": {},
   "outputs": [
    {
     "name": "stdout",
     "output_type": "stream",
     "text": [
      "(300524, 'discover', 'credit', None, 'US', 'United States of America', 'USD', None)\n",
      "(300525, 'discover', 'credit', None, 'US', 'United States of America', 'USD', None)\n",
      "(300526, 'discover', 'credit', None, 'US', 'United States of America', 'USD', None)\n",
      "(300527, 'discover', 'credit', None, 'US', 'United States of America', 'USD', None)\n",
      "(300528, 'discover', 'credit', None, 'US', 'United States of America', 'USD', None)\n",
      "insert successfully\n"
     ]
    }
   ],
   "source": [
    "import urllib.request\n",
    "import pandas as pd\n",
    "import pymssql\n",
    "from datetime import date,datetime,timedelta\n",
    "import time\n",
    "with pymssql.connect(host=r'yourhost',database=r'yourdb') as con:\n",
    "    with con.cursor(as_dict=True)as cursor:\n",
    "        query=\"Insert Into BINList(number,scheme,type,brand,country_alpha2,country_name,currency,bankname) values(%s,%s,%s,%s,%s,%s,%s,%s)\"\n",
    "        for number in range(300524,300529):\n",
    "            base_url = \"https://lookup.binlist.net/\"+str(number)\n",
    "            try:\n",
    "                content = urllib.request.urlopen(base_url).read()\n",
    "                text=str(content)\n",
    "                a=number\n",
    "                try:\n",
    "                    b=text.split('\"scheme\":')[1].split(',')[0].split('\"')[1]\n",
    "                except:\n",
    "                    b=None\n",
    "                try:\n",
    "                    c=text.split('\"type\":')[1].split(',')[0].split('\"')[1]\n",
    "                except:\n",
    "                    c=None\n",
    "                try:\n",
    "                    d=text.split('\"brand\":')[1].split(',')[0].split('\"')[1]\n",
    "                except:\n",
    "                    d=None\n",
    "                try:\n",
    "                    e=text.split('\"alpha2\":')[1].split(',')[0].split('\"')[1]\n",
    "                except:\n",
    "                    e=None\n",
    "                try:\n",
    "                    f=text.split('\"name\":')[1].split(',')[0].split('\"')[1]\n",
    "                except:\n",
    "                    f=None\n",
    "                try:\n",
    "                    g=text.split('\"currency\":')[1].split(',')[0].split('\"')[1]\n",
    "                except:\n",
    "                    g=None\n",
    "                try:\n",
    "                    h=text.split('\"bank\":{\"name\":')[1].split(',')[0].split('\"')[1]\n",
    "                except:\n",
    "                    h=None\n",
    "                values=(a,b,c,d,e,f,g,h)\n",
    "                print(values)\n",
    "                cursor.execute(query,values)\n",
    "                con.commit()\n",
    "                time.sleep(6)\n",
    "            except:\n",
    "                print(str(number)+' is not available')\n",
    "                time.sleep(6)\n",
    "                continue\n",
    "        print('insert successfully')"
   ]
  }
 ],
 "metadata": {
  "kernelspec": {
   "display_name": "Python 3",
   "language": "python",
   "name": "python3"
  },
  "language_info": {
   "codemirror_mode": {
    "name": "ipython",
    "version": 3
   },
   "file_extension": ".py",
   "mimetype": "text/x-python",
   "name": "python",
   "nbconvert_exporter": "python",
   "pygments_lexer": "ipython3",
   "version": "3.7.1"
  }
 },
 "nbformat": 4,
 "nbformat_minor": 2
}
